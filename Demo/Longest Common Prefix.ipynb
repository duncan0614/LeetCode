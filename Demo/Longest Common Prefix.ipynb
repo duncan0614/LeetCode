{
 "cells": [
  {
   "cell_type": "code",
   "execution_count": 22,
   "metadata": {},
   "outputs": [
    {
     "name": "stdout",
     "output_type": "stream",
     "text": [
      "f\n"
     ]
    }
   ],
   "source": [
    "strs = [\"flower\",\"flow\",\"flight\"]\n",
    "\n",
    "checkword1 = ''\n",
    "\n",
    "checkword2 = ''\n",
    "\n",
    "for words in strs:\n",
    "    for word in words:\n",
    "        checkword1 =  checkword1 + word\n",
    "\n",
    "x = len(checkword1)\n",
    "        \n",
    "for i in range(len(strs[0])-1):\n",
    "    if checkword1[i] == checkword1[x]\n",
    "\n",
    "print(checkword1[0])\n"
   ]
  },
  {
   "cell_type": "code",
   "execution_count": 23,
   "metadata": {},
   "outputs": [
    {
     "name": "stdout",
     "output_type": "stream",
     "text": [
      "6\n"
     ]
    }
   ],
   "source": [
    "strs = [\"flower\",\"flow\",\"flight\"]\n",
    "\n",
    "print(len(strs[0]))"
   ]
  },
  {
   "cell_type": "code",
   "execution_count": 34,
   "metadata": {},
   "outputs": [
    {
     "name": "stdout",
     "output_type": "stream",
     "text": [
      "\n"
     ]
    }
   ],
   "source": [
    "class Solution:\n",
    "    def longestCommonPrefix(self, strs):\n",
    "        prefix = ''\n",
    "        min_length = min(map(lambda a: len(a),strs))\n",
    "        prefix_ind = 0\n",
    "        if strs == \"\":\n",
    "            return \"\"\n",
    "        while prefix_ind <= (min_length - 1):\n",
    "            for ind in range(1,len(strs)):\n",
    "                if strs[0][prefix_ind] == strs[ind][prefix_ind]:\n",
    "                    pass\n",
    "                else:\n",
    "                    return prefix\n",
    "                prefix = prefix + strs[0][prefix_ind]\n",
    "                prefix_ind += 1\n",
    "            return prefix\n",
    "        if not prefix:\n",
    "                return \"\" \n",
    "obj = Solution()\n",
    "print(obj.longestCommonPrefix([\"\"]))"
   ]
  },
  {
   "cell_type": "code",
   "execution_count": null,
   "metadata": {},
   "outputs": [],
   "source": []
  }
 ],
 "metadata": {
  "kernelspec": {
   "display_name": "Python 3",
   "language": "python",
   "name": "python3"
  },
  "language_info": {
   "codemirror_mode": {
    "name": "ipython",
    "version": 3
   },
   "file_extension": ".py",
   "mimetype": "text/x-python",
   "name": "python",
   "nbconvert_exporter": "python",
   "pygments_lexer": "ipython3",
   "version": "3.8.2"
  }
 },
 "nbformat": 4,
 "nbformat_minor": 4
}
