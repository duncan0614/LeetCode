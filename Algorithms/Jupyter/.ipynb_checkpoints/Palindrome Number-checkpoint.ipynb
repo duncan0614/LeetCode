{
 "cells": [
  {
   "cell_type": "code",
   "execution_count": 12,
   "metadata": {},
   "outputs": [],
   "source": [
    "class Solution(object):\n",
    "    def isPalindrome(self, x):\n",
    "        \"\"\"\n",
    "        :type x: int\n",
    "        :rtype: bool\n",
    "        \"\"\"\n",
    "        if x < 0:\n",
    "            return False\n",
    "        if x > 0:\n",
    "            y = int(str(x)[::-1])\n",
    "            if y == x:\n",
    "                return True\n",
    "            else:\n",
    "                return False\n",
    "        if (x >= 0x7fffffff):\n",
    "            return 0"
   ]
  },
  {
   "cell_type": "code",
   "execution_count": 21,
   "metadata": {},
   "outputs": [
    {
     "name": "stdout",
     "output_type": "stream",
     "text": [
      "121\n",
      "True\n"
     ]
    }
   ],
   "source": [
    "x = int(input())\n",
    "if x < 0:\n",
    "    y = -1 * int(str(-x)[::-1])\n",
    "    if y == x:\n",
    "        rtype = True\n",
    "    else:\n",
    "        rtype = False\n",
    "if x > 0:\n",
    "    y = int(str(x)[::-1])\n",
    "    if y == x:\n",
    "        rtype = True\n",
    "    else:\n",
    "        rtype = False\n",
    "print(rtype)"
   ]
  },
  {
   "cell_type": "code",
   "execution_count": null,
   "metadata": {},
   "outputs": [],
   "source": []
  }
 ],
 "metadata": {
  "kernelspec": {
   "display_name": "Python 3",
   "language": "python",
   "name": "python3"
  },
  "language_info": {
   "codemirror_mode": {
    "name": "ipython",
    "version": 3
   },
   "file_extension": ".py",
   "mimetype": "text/x-python",
   "name": "python",
   "nbconvert_exporter": "python",
   "pygments_lexer": "ipython3",
   "version": "3.8.2"
  }
 },
 "nbformat": 4,
 "nbformat_minor": 4
}
