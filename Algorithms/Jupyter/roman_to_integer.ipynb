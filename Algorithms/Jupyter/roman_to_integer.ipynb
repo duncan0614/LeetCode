{
 "cells": [
  {
   "cell_type": "code",
   "execution_count": 9,
   "metadata": {},
   "outputs": [
    {
     "name": "stdout",
     "output_type": "stream",
     "text": [
      "MCMXCIV\n",
      "1994\n"
     ]
    }
   ],
   "source": [
    "s = str(input())\n",
    "\n",
    "word = ['I','V','X','L','C','D','M']\n",
    "\n",
    "roman = {'I':1,'V':5,'X':10,'L':50,'C':100,'D':500,'M':1000}\n",
    "\n",
    "num = 0\n",
    "\n",
    "for i in range(len(s)):\n",
    "    \n",
    "    if s[i] not in word:\n",
    "        \n",
    "        break\n",
    "        \n",
    "    a = roman[s[i]]\n",
    "    \n",
    "    if(i != 0 and roman[s[i-1]] < roman[s[i]]):\n",
    "        \n",
    "        a = a - roman[s[i-1]] * 2\n",
    "        \n",
    "    num = num + a    \n",
    "        \n",
    "print(num)"
   ]
  },
  {
   "cell_type": "code",
   "execution_count": null,
   "metadata": {},
   "outputs": [],
   "source": []
  }
 ],
 "metadata": {
  "kernelspec": {
   "display_name": "Python 3",
   "language": "python",
   "name": "python3"
  },
  "language_info": {
   "codemirror_mode": {
    "name": "ipython",
    "version": 3
   },
   "file_extension": ".py",
   "mimetype": "text/x-python",
   "name": "python",
   "nbconvert_exporter": "python",
   "pygments_lexer": "ipython3",
   "version": "3.8.2"
  }
 },
 "nbformat": 4,
 "nbformat_minor": 4
}
